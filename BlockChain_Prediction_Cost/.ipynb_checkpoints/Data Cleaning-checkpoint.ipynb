{
 "cells": [
  {
   "cell_type": "code",
   "execution_count": 1,
   "id": "3f5cdf76",
   "metadata": {},
   "outputs": [],
   "source": [
    "import pandas as pd\n",
    "import numpy as np"
   ]
  },
  {
   "cell_type": "code",
   "execution_count": 46,
   "id": "5cd36171",
   "metadata": {},
   "outputs": [],
   "source": [
    "IndiaDF = pd.read_csv('india_Data.csv')"
   ]
  },
  {
   "cell_type": "markdown",
   "id": "1baab227",
   "metadata": {},
   "source": [
    "## DATASET"
   ]
  },
  {
   "cell_type": "code",
   "execution_count": 7,
   "id": "6c7bcbd2",
   "metadata": {},
   "outputs": [
    {
     "data": {
      "text/html": [
       "<div>\n",
       "<style scoped>\n",
       "    .dataframe tbody tr th:only-of-type {\n",
       "        vertical-align: middle;\n",
       "    }\n",
       "\n",
       "    .dataframe tbody tr th {\n",
       "        vertical-align: top;\n",
       "    }\n",
       "\n",
       "    .dataframe thead th {\n",
       "        text-align: right;\n",
       "    }\n",
       "</style>\n",
       "<table border=\"1\" class=\"dataframe\">\n",
       "  <thead>\n",
       "    <tr style=\"text-align: right;\">\n",
       "      <th></th>\n",
       "      <th>TCO1</th>\n",
       "      <th>TCO2</th>\n",
       "      <th>TCO3</th>\n",
       "      <th>TCO4</th>\n",
       "      <th>ROI1</th>\n",
       "      <th>ROI2</th>\n",
       "      <th>ROI3</th>\n",
       "      <th>COM1</th>\n",
       "      <th>COM2</th>\n",
       "      <th>COM3</th>\n",
       "      <th>...</th>\n",
       "      <th>SC1</th>\n",
       "      <th>SC2</th>\n",
       "      <th>SC3</th>\n",
       "      <th>TC1</th>\n",
       "      <th>TC2</th>\n",
       "      <th>TC3</th>\n",
       "      <th>RCC1</th>\n",
       "      <th>RCC2</th>\n",
       "      <th>RCC3</th>\n",
       "      <th>Adoption cost</th>\n",
       "    </tr>\n",
       "  </thead>\n",
       "  <tbody>\n",
       "    <tr>\n",
       "      <th>0</th>\n",
       "      <td>7</td>\n",
       "      <td>6</td>\n",
       "      <td>6</td>\n",
       "      <td>5</td>\n",
       "      <td>6</td>\n",
       "      <td>6</td>\n",
       "      <td>6</td>\n",
       "      <td>6</td>\n",
       "      <td>6</td>\n",
       "      <td>6</td>\n",
       "      <td>...</td>\n",
       "      <td>6</td>\n",
       "      <td>6</td>\n",
       "      <td>7</td>\n",
       "      <td>6</td>\n",
       "      <td>6</td>\n",
       "      <td>5</td>\n",
       "      <td>6</td>\n",
       "      <td>6</td>\n",
       "      <td>6</td>\n",
       "      <td>6</td>\n",
       "    </tr>\n",
       "    <tr>\n",
       "      <th>1</th>\n",
       "      <td>7</td>\n",
       "      <td>7</td>\n",
       "      <td>7</td>\n",
       "      <td>6</td>\n",
       "      <td>7</td>\n",
       "      <td>7</td>\n",
       "      <td>5</td>\n",
       "      <td>6</td>\n",
       "      <td>6</td>\n",
       "      <td>7</td>\n",
       "      <td>...</td>\n",
       "      <td>7</td>\n",
       "      <td>7</td>\n",
       "      <td>7</td>\n",
       "      <td>7</td>\n",
       "      <td>7</td>\n",
       "      <td>6</td>\n",
       "      <td>7</td>\n",
       "      <td>7</td>\n",
       "      <td>5</td>\n",
       "      <td>5</td>\n",
       "    </tr>\n",
       "    <tr>\n",
       "      <th>2</th>\n",
       "      <td>7</td>\n",
       "      <td>7</td>\n",
       "      <td>7</td>\n",
       "      <td>7</td>\n",
       "      <td>7</td>\n",
       "      <td>6</td>\n",
       "      <td>6</td>\n",
       "      <td>6</td>\n",
       "      <td>7</td>\n",
       "      <td>7</td>\n",
       "      <td>...</td>\n",
       "      <td>7</td>\n",
       "      <td>7</td>\n",
       "      <td>7</td>\n",
       "      <td>7</td>\n",
       "      <td>7</td>\n",
       "      <td>7</td>\n",
       "      <td>7</td>\n",
       "      <td>6</td>\n",
       "      <td>6</td>\n",
       "      <td>6</td>\n",
       "    </tr>\n",
       "    <tr>\n",
       "      <th>3</th>\n",
       "      <td>7</td>\n",
       "      <td>7</td>\n",
       "      <td>7</td>\n",
       "      <td>6</td>\n",
       "      <td>7</td>\n",
       "      <td>7</td>\n",
       "      <td>7</td>\n",
       "      <td>5</td>\n",
       "      <td>6</td>\n",
       "      <td>7</td>\n",
       "      <td>...</td>\n",
       "      <td>5</td>\n",
       "      <td>6</td>\n",
       "      <td>7</td>\n",
       "      <td>7</td>\n",
       "      <td>7</td>\n",
       "      <td>6</td>\n",
       "      <td>7</td>\n",
       "      <td>7</td>\n",
       "      <td>7</td>\n",
       "      <td>7</td>\n",
       "    </tr>\n",
       "    <tr>\n",
       "      <th>4</th>\n",
       "      <td>7</td>\n",
       "      <td>7</td>\n",
       "      <td>7</td>\n",
       "      <td>7</td>\n",
       "      <td>7</td>\n",
       "      <td>7</td>\n",
       "      <td>7</td>\n",
       "      <td>7</td>\n",
       "      <td>7</td>\n",
       "      <td>7</td>\n",
       "      <td>...</td>\n",
       "      <td>4</td>\n",
       "      <td>4</td>\n",
       "      <td>7</td>\n",
       "      <td>7</td>\n",
       "      <td>7</td>\n",
       "      <td>7</td>\n",
       "      <td>7</td>\n",
       "      <td>7</td>\n",
       "      <td>7</td>\n",
       "      <td>7</td>\n",
       "    </tr>\n",
       "  </tbody>\n",
       "</table>\n",
       "<p>5 rows × 26 columns</p>\n",
       "</div>"
      ],
      "text/plain": [
       "   TCO1  TCO2  TCO3  TCO4  ROI1  ROI2  ROI3  COM1  COM2  COM3  ...  SC1  SC2  \\\n",
       "0     7     6     6     5     6     6     6     6     6     6  ...    6    6   \n",
       "1     7     7     7     6     7     7     5     6     6     7  ...    7    7   \n",
       "2     7     7     7     7     7     6     6     6     7     7  ...    7    7   \n",
       "3     7     7     7     6     7     7     7     5     6     7  ...    5    6   \n",
       "4     7     7     7     7     7     7     7     7     7     7  ...    4    4   \n",
       "\n",
       "   SC3  TC1  TC2  TC3  RCC1  RCC2  RCC3  Adoption cost  \n",
       "0    7    6    6    5     6     6     6              6  \n",
       "1    7    7    7    6     7     7     5              5  \n",
       "2    7    7    7    7     7     6     6              6  \n",
       "3    7    7    7    6     7     7     7              7  \n",
       "4    7    7    7    7     7     7     7              7  \n",
       "\n",
       "[5 rows x 26 columns]"
      ]
     },
     "execution_count": 7,
     "metadata": {},
     "output_type": "execute_result"
    }
   ],
   "source": [
    "IndiaDF.head()"
   ]
  },
  {
   "cell_type": "code",
   "execution_count": 9,
   "id": "2c5b9414",
   "metadata": {},
   "outputs": [
    {
     "data": {
      "text/plain": [
       "(772, 26)"
      ]
     },
     "execution_count": 9,
     "metadata": {},
     "output_type": "execute_result"
    }
   ],
   "source": [
    "IndiaDF.shape"
   ]
  },
  {
   "cell_type": "markdown",
   "id": "34b1ccc9",
   "metadata": {},
   "source": [
    "## CHECKING FOR NULL VALUES"
   ]
  },
  {
   "cell_type": "code",
   "execution_count": 13,
   "id": "87d50779",
   "metadata": {},
   "outputs": [
    {
     "data": {
      "text/plain": [
       "TCO1             0\n",
       "TCO2             0\n",
       "TCO3             0\n",
       "TCO4             0\n",
       "ROI1             0\n",
       "ROI2             0\n",
       "ROI3             0\n",
       "COM1             0\n",
       "COM2             0\n",
       "COM3             0\n",
       "SCC1             0\n",
       "SCC2             0\n",
       "SCC3             0\n",
       "IC1              0\n",
       "IC2              0\n",
       "IC3              0\n",
       "SC1              0\n",
       "SC2              0\n",
       "SC3              0\n",
       "TC1              0\n",
       "TC2              0\n",
       "TC3              0\n",
       "RCC1             0\n",
       "RCC2             0\n",
       "RCC3             0\n",
       "Adoption cost    0\n",
       "dtype: int64"
      ]
     },
     "execution_count": 13,
     "metadata": {},
     "output_type": "execute_result"
    }
   ],
   "source": [
    "IndiaDF.isnull().sum()"
   ]
  },
  {
   "cell_type": "code",
   "execution_count": 49,
   "id": "aa3abfd4",
   "metadata": {},
   "outputs": [
    {
     "data": {
      "text/plain": [
       "0"
      ]
     },
     "execution_count": 49,
     "metadata": {},
     "output_type": "execute_result"
    }
   ],
   "source": [
    "IndiaDF.isnull().sum().sum()"
   ]
  },
  {
   "cell_type": "markdown",
   "id": "2b3747ed",
   "metadata": {},
   "source": [
    "## CHECKING FOR DUPLICATED VALUES"
   ]
  },
  {
   "cell_type": "code",
   "execution_count": 18,
   "id": "ee2f6b7d",
   "metadata": {},
   "outputs": [
    {
     "data": {
      "text/plain": [
       "0      False\n",
       "1      False\n",
       "2      False\n",
       "3      False\n",
       "4      False\n",
       "       ...  \n",
       "767    False\n",
       "768    False\n",
       "769    False\n",
       "770    False\n",
       "771    False\n",
       "Length: 772, dtype: bool"
      ]
     },
     "execution_count": 18,
     "metadata": {},
     "output_type": "execute_result"
    }
   ],
   "source": [
    "IndiaDF.duplicated()"
   ]
  },
  {
   "cell_type": "code",
   "execution_count": 19,
   "id": "94c18f2a",
   "metadata": {},
   "outputs": [
    {
     "data": {
      "text/plain": [
       "75"
      ]
     },
     "execution_count": 19,
     "metadata": {},
     "output_type": "execute_result"
    }
   ],
   "source": [
    "IndiaDF.duplicated().sum() "
   ]
  },
  {
   "cell_type": "markdown",
   "id": "6f91b62e",
   "metadata": {},
   "source": [
    "duplicate value  can be present as people can give same answers hence same rows."
   ]
  },
  {
   "cell_type": "code",
   "execution_count": 53,
   "id": "b957be9b",
   "metadata": {},
   "outputs": [
    {
     "data": {
      "text/html": [
       "<div>\n",
       "<style scoped>\n",
       "    .dataframe tbody tr th:only-of-type {\n",
       "        vertical-align: middle;\n",
       "    }\n",
       "\n",
       "    .dataframe tbody tr th {\n",
       "        vertical-align: top;\n",
       "    }\n",
       "\n",
       "    .dataframe thead th {\n",
       "        text-align: right;\n",
       "    }\n",
       "</style>\n",
       "<table border=\"1\" class=\"dataframe\">\n",
       "  <thead>\n",
       "    <tr style=\"text-align: right;\">\n",
       "      <th></th>\n",
       "      <th>TCO1</th>\n",
       "      <th>TCO2</th>\n",
       "      <th>TCO3</th>\n",
       "      <th>TCO4</th>\n",
       "      <th>ROI1</th>\n",
       "      <th>ROI2</th>\n",
       "      <th>ROI3</th>\n",
       "      <th>COM1</th>\n",
       "      <th>COM2</th>\n",
       "      <th>COM3</th>\n",
       "      <th>...</th>\n",
       "      <th>SC1</th>\n",
       "      <th>SC2</th>\n",
       "      <th>SC3</th>\n",
       "      <th>TC1</th>\n",
       "      <th>TC2</th>\n",
       "      <th>TC3</th>\n",
       "      <th>RCC1</th>\n",
       "      <th>RCC2</th>\n",
       "      <th>RCC3</th>\n",
       "      <th>Adoption cost</th>\n",
       "    </tr>\n",
       "  </thead>\n",
       "  <tbody>\n",
       "    <tr>\n",
       "      <th>40</th>\n",
       "      <td>7</td>\n",
       "      <td>7</td>\n",
       "      <td>7</td>\n",
       "      <td>7</td>\n",
       "      <td>7</td>\n",
       "      <td>7</td>\n",
       "      <td>7</td>\n",
       "      <td>7</td>\n",
       "      <td>7</td>\n",
       "      <td>7</td>\n",
       "      <td>...</td>\n",
       "      <td>7</td>\n",
       "      <td>7</td>\n",
       "      <td>7</td>\n",
       "      <td>7</td>\n",
       "      <td>7</td>\n",
       "      <td>7</td>\n",
       "      <td>7</td>\n",
       "      <td>7</td>\n",
       "      <td>7</td>\n",
       "      <td>7</td>\n",
       "    </tr>\n",
       "    <tr>\n",
       "      <th>42</th>\n",
       "      <td>7</td>\n",
       "      <td>7</td>\n",
       "      <td>7</td>\n",
       "      <td>7</td>\n",
       "      <td>7</td>\n",
       "      <td>7</td>\n",
       "      <td>7</td>\n",
       "      <td>7</td>\n",
       "      <td>7</td>\n",
       "      <td>7</td>\n",
       "      <td>...</td>\n",
       "      <td>7</td>\n",
       "      <td>7</td>\n",
       "      <td>7</td>\n",
       "      <td>7</td>\n",
       "      <td>7</td>\n",
       "      <td>7</td>\n",
       "      <td>7</td>\n",
       "      <td>7</td>\n",
       "      <td>7</td>\n",
       "      <td>7</td>\n",
       "    </tr>\n",
       "    <tr>\n",
       "      <th>51</th>\n",
       "      <td>7</td>\n",
       "      <td>7</td>\n",
       "      <td>7</td>\n",
       "      <td>7</td>\n",
       "      <td>7</td>\n",
       "      <td>7</td>\n",
       "      <td>7</td>\n",
       "      <td>7</td>\n",
       "      <td>7</td>\n",
       "      <td>7</td>\n",
       "      <td>...</td>\n",
       "      <td>7</td>\n",
       "      <td>7</td>\n",
       "      <td>7</td>\n",
       "      <td>7</td>\n",
       "      <td>7</td>\n",
       "      <td>7</td>\n",
       "      <td>7</td>\n",
       "      <td>7</td>\n",
       "      <td>7</td>\n",
       "      <td>7</td>\n",
       "    </tr>\n",
       "    <tr>\n",
       "      <th>65</th>\n",
       "      <td>7</td>\n",
       "      <td>7</td>\n",
       "      <td>7</td>\n",
       "      <td>7</td>\n",
       "      <td>7</td>\n",
       "      <td>7</td>\n",
       "      <td>7</td>\n",
       "      <td>7</td>\n",
       "      <td>7</td>\n",
       "      <td>7</td>\n",
       "      <td>...</td>\n",
       "      <td>7</td>\n",
       "      <td>7</td>\n",
       "      <td>7</td>\n",
       "      <td>7</td>\n",
       "      <td>7</td>\n",
       "      <td>7</td>\n",
       "      <td>7</td>\n",
       "      <td>7</td>\n",
       "      <td>7</td>\n",
       "      <td>7</td>\n",
       "    </tr>\n",
       "    <tr>\n",
       "      <th>78</th>\n",
       "      <td>7</td>\n",
       "      <td>7</td>\n",
       "      <td>7</td>\n",
       "      <td>7</td>\n",
       "      <td>7</td>\n",
       "      <td>7</td>\n",
       "      <td>7</td>\n",
       "      <td>7</td>\n",
       "      <td>7</td>\n",
       "      <td>7</td>\n",
       "      <td>...</td>\n",
       "      <td>7</td>\n",
       "      <td>7</td>\n",
       "      <td>7</td>\n",
       "      <td>7</td>\n",
       "      <td>7</td>\n",
       "      <td>7</td>\n",
       "      <td>7</td>\n",
       "      <td>7</td>\n",
       "      <td>7</td>\n",
       "      <td>7</td>\n",
       "    </tr>\n",
       "    <tr>\n",
       "      <th>...</th>\n",
       "      <td>...</td>\n",
       "      <td>...</td>\n",
       "      <td>...</td>\n",
       "      <td>...</td>\n",
       "      <td>...</td>\n",
       "      <td>...</td>\n",
       "      <td>...</td>\n",
       "      <td>...</td>\n",
       "      <td>...</td>\n",
       "      <td>...</td>\n",
       "      <td>...</td>\n",
       "      <td>...</td>\n",
       "      <td>...</td>\n",
       "      <td>...</td>\n",
       "      <td>...</td>\n",
       "      <td>...</td>\n",
       "      <td>...</td>\n",
       "      <td>...</td>\n",
       "      <td>...</td>\n",
       "      <td>...</td>\n",
       "      <td>...</td>\n",
       "    </tr>\n",
       "    <tr>\n",
       "      <th>697</th>\n",
       "      <td>7</td>\n",
       "      <td>7</td>\n",
       "      <td>7</td>\n",
       "      <td>7</td>\n",
       "      <td>7</td>\n",
       "      <td>7</td>\n",
       "      <td>7</td>\n",
       "      <td>7</td>\n",
       "      <td>7</td>\n",
       "      <td>7</td>\n",
       "      <td>...</td>\n",
       "      <td>7</td>\n",
       "      <td>7</td>\n",
       "      <td>7</td>\n",
       "      <td>7</td>\n",
       "      <td>7</td>\n",
       "      <td>7</td>\n",
       "      <td>7</td>\n",
       "      <td>7</td>\n",
       "      <td>7</td>\n",
       "      <td>7</td>\n",
       "    </tr>\n",
       "    <tr>\n",
       "      <th>701</th>\n",
       "      <td>7</td>\n",
       "      <td>7</td>\n",
       "      <td>7</td>\n",
       "      <td>7</td>\n",
       "      <td>7</td>\n",
       "      <td>7</td>\n",
       "      <td>7</td>\n",
       "      <td>7</td>\n",
       "      <td>7</td>\n",
       "      <td>7</td>\n",
       "      <td>...</td>\n",
       "      <td>7</td>\n",
       "      <td>7</td>\n",
       "      <td>7</td>\n",
       "      <td>7</td>\n",
       "      <td>7</td>\n",
       "      <td>7</td>\n",
       "      <td>7</td>\n",
       "      <td>7</td>\n",
       "      <td>7</td>\n",
       "      <td>6</td>\n",
       "    </tr>\n",
       "    <tr>\n",
       "      <th>729</th>\n",
       "      <td>7</td>\n",
       "      <td>7</td>\n",
       "      <td>7</td>\n",
       "      <td>7</td>\n",
       "      <td>7</td>\n",
       "      <td>7</td>\n",
       "      <td>7</td>\n",
       "      <td>7</td>\n",
       "      <td>7</td>\n",
       "      <td>7</td>\n",
       "      <td>...</td>\n",
       "      <td>7</td>\n",
       "      <td>7</td>\n",
       "      <td>7</td>\n",
       "      <td>7</td>\n",
       "      <td>7</td>\n",
       "      <td>7</td>\n",
       "      <td>7</td>\n",
       "      <td>7</td>\n",
       "      <td>7</td>\n",
       "      <td>7</td>\n",
       "    </tr>\n",
       "    <tr>\n",
       "      <th>762</th>\n",
       "      <td>7</td>\n",
       "      <td>7</td>\n",
       "      <td>7</td>\n",
       "      <td>7</td>\n",
       "      <td>7</td>\n",
       "      <td>7</td>\n",
       "      <td>7</td>\n",
       "      <td>7</td>\n",
       "      <td>7</td>\n",
       "      <td>7</td>\n",
       "      <td>...</td>\n",
       "      <td>7</td>\n",
       "      <td>7</td>\n",
       "      <td>7</td>\n",
       "      <td>7</td>\n",
       "      <td>7</td>\n",
       "      <td>7</td>\n",
       "      <td>7</td>\n",
       "      <td>7</td>\n",
       "      <td>7</td>\n",
       "      <td>6</td>\n",
       "    </tr>\n",
       "    <tr>\n",
       "      <th>764</th>\n",
       "      <td>7</td>\n",
       "      <td>7</td>\n",
       "      <td>7</td>\n",
       "      <td>7</td>\n",
       "      <td>7</td>\n",
       "      <td>7</td>\n",
       "      <td>7</td>\n",
       "      <td>7</td>\n",
       "      <td>7</td>\n",
       "      <td>7</td>\n",
       "      <td>...</td>\n",
       "      <td>7</td>\n",
       "      <td>7</td>\n",
       "      <td>7</td>\n",
       "      <td>7</td>\n",
       "      <td>7</td>\n",
       "      <td>7</td>\n",
       "      <td>7</td>\n",
       "      <td>7</td>\n",
       "      <td>7</td>\n",
       "      <td>4</td>\n",
       "    </tr>\n",
       "  </tbody>\n",
       "</table>\n",
       "<p>75 rows × 26 columns</p>\n",
       "</div>"
      ],
      "text/plain": [
       "     TCO1  TCO2  TCO3  TCO4  ROI1  ROI2  ROI3  COM1  COM2  COM3  ...  SC1  \\\n",
       "40      7     7     7     7     7     7     7     7     7     7  ...    7   \n",
       "42      7     7     7     7     7     7     7     7     7     7  ...    7   \n",
       "51      7     7     7     7     7     7     7     7     7     7  ...    7   \n",
       "65      7     7     7     7     7     7     7     7     7     7  ...    7   \n",
       "78      7     7     7     7     7     7     7     7     7     7  ...    7   \n",
       "..    ...   ...   ...   ...   ...   ...   ...   ...   ...   ...  ...  ...   \n",
       "697     7     7     7     7     7     7     7     7     7     7  ...    7   \n",
       "701     7     7     7     7     7     7     7     7     7     7  ...    7   \n",
       "729     7     7     7     7     7     7     7     7     7     7  ...    7   \n",
       "762     7     7     7     7     7     7     7     7     7     7  ...    7   \n",
       "764     7     7     7     7     7     7     7     7     7     7  ...    7   \n",
       "\n",
       "     SC2  SC3  TC1  TC2  TC3  RCC1  RCC2  RCC3  Adoption cost  \n",
       "40     7    7    7    7    7     7     7     7              7  \n",
       "42     7    7    7    7    7     7     7     7              7  \n",
       "51     7    7    7    7    7     7     7     7              7  \n",
       "65     7    7    7    7    7     7     7     7              7  \n",
       "78     7    7    7    7    7     7     7     7              7  \n",
       "..   ...  ...  ...  ...  ...   ...   ...   ...            ...  \n",
       "697    7    7    7    7    7     7     7     7              7  \n",
       "701    7    7    7    7    7     7     7     7              6  \n",
       "729    7    7    7    7    7     7     7     7              7  \n",
       "762    7    7    7    7    7     7     7     7              6  \n",
       "764    7    7    7    7    7     7     7     7              4  \n",
       "\n",
       "[75 rows x 26 columns]"
      ]
     },
     "execution_count": 53,
     "metadata": {},
     "output_type": "execute_result"
    }
   ],
   "source": [
    "duplicated_rows = IndiaDF[IndiaDF.duplicated()]\n",
    "duplicated_rows[Adoption cost]"
   ]
  },
  {
   "cell_type": "markdown",
   "id": "2702d086",
   "metadata": {},
   "source": [
    "## CHECKING IF VALUES PRESENT OUTSIDE THE LIKERT SCALE"
   ]
  },
  {
   "cell_type": "code",
   "execution_count": 36,
   "id": "9f86130d",
   "metadata": {},
   "outputs": [],
   "source": [
    "bool_df = IndiaDF > 7"
   ]
  },
  {
   "cell_type": "code",
   "execution_count": 37,
   "id": "2d1046c2",
   "metadata": {},
   "outputs": [
    {
     "data": {
      "text/plain": [
       "0"
      ]
     },
     "execution_count": 37,
     "metadata": {},
     "output_type": "execute_result"
    }
   ],
   "source": [
    "bool_df.sum().sum()"
   ]
  },
  {
   "cell_type": "code",
   "execution_count": 38,
   "id": "1df49d9e",
   "metadata": {},
   "outputs": [],
   "source": [
    "bool_df1 = IndiaDF<1 "
   ]
  },
  {
   "cell_type": "code",
   "execution_count": 39,
   "id": "383dd0a3",
   "metadata": {},
   "outputs": [
    {
     "data": {
      "text/plain": [
       "0"
      ]
     },
     "execution_count": 39,
     "metadata": {},
     "output_type": "execute_result"
    }
   ],
   "source": [
    "bool_df1.sum().sum()"
   ]
  },
  {
   "cell_type": "markdown",
   "id": "1b0f57df",
   "metadata": {},
   "source": [
    "## STRONGLY AGREE AND STRONGLY DISAGREE COUNT IN ENTIRE DATASET"
   ]
  },
  {
   "cell_type": "code",
   "execution_count": 42,
   "id": "5d473f39",
   "metadata": {},
   "outputs": [],
   "source": [
    "strongly_agree = IndiaDF == 7 "
   ]
  },
  {
   "cell_type": "code",
   "execution_count": 43,
   "id": "00531544",
   "metadata": {},
   "outputs": [
    {
     "data": {
      "text/plain": [
       "10792"
      ]
     },
     "execution_count": 43,
     "metadata": {},
     "output_type": "execute_result"
    }
   ],
   "source": [
    "strongly_agree.sum().sum()"
   ]
  },
  {
   "cell_type": "code",
   "execution_count": 44,
   "id": "c66e65fe",
   "metadata": {},
   "outputs": [],
   "source": [
    "strongly_disagree = IndiaDF == 6"
   ]
  },
  {
   "cell_type": "code",
   "execution_count": 45,
   "id": "78a84c96",
   "metadata": {},
   "outputs": [
    {
     "data": {
      "text/plain": [
       "5037"
      ]
     },
     "execution_count": 45,
     "metadata": {},
     "output_type": "execute_result"
    }
   ],
   "source": [
    "strongly_disagree.sum().sum()"
   ]
  },
  {
   "cell_type": "code",
   "execution_count": null,
   "id": "af825a81",
   "metadata": {},
   "outputs": [],
   "source": []
  }
 ],
 "metadata": {
  "kernelspec": {
   "display_name": "Python 3 (ipykernel)",
   "language": "python",
   "name": "python3"
  },
  "language_info": {
   "codemirror_mode": {
    "name": "ipython",
    "version": 3
   },
   "file_extension": ".py",
   "mimetype": "text/x-python",
   "name": "python",
   "nbconvert_exporter": "python",
   "pygments_lexer": "ipython3",
   "version": "3.9.13"
  }
 },
 "nbformat": 4,
 "nbformat_minor": 5
}
