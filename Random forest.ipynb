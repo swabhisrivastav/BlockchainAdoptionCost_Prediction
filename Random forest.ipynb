{
 "cells": [
  {
   "cell_type": "code",
   "execution_count": 1,
   "id": "74bcf12f",
   "metadata": {},
   "outputs": [],
   "source": [
    "import pandas as pd\n",
    "import numpy as np"
   ]
  },
  {
   "cell_type": "code",
   "execution_count": 2,
   "id": "6b46480a",
   "metadata": {},
   "outputs": [],
   "source": [
    "IndiaDf = pd.read_csv('india_Data.csv')"
   ]
  },
  {
   "cell_type": "code",
   "execution_count": 4,
   "id": "3ff3ba45",
   "metadata": {},
   "outputs": [
    {
     "name": "stdout",
     "output_type": "stream",
     "text": [
      "<class 'pandas.core.frame.DataFrame'>\n",
      "RangeIndex: 772 entries, 0 to 771\n",
      "Data columns (total 26 columns):\n",
      " #   Column         Non-Null Count  Dtype\n",
      "---  ------         --------------  -----\n",
      " 0   TCO1           772 non-null    int64\n",
      " 1   TCO2           772 non-null    int64\n",
      " 2   TCO3           772 non-null    int64\n",
      " 3   TCO4           772 non-null    int64\n",
      " 4   ROI1           772 non-null    int64\n",
      " 5   ROI2           772 non-null    int64\n",
      " 6   ROI3           772 non-null    int64\n",
      " 7   COM1           772 non-null    int64\n",
      " 8   COM2           772 non-null    int64\n",
      " 9   COM3           772 non-null    int64\n",
      " 10  SCC1           772 non-null    int64\n",
      " 11  SCC2           772 non-null    int64\n",
      " 12  SCC3           772 non-null    int64\n",
      " 13  IC1            772 non-null    int64\n",
      " 14  IC2            772 non-null    int64\n",
      " 15  IC3            772 non-null    int64\n",
      " 16  SC1            772 non-null    int64\n",
      " 17  SC2            772 non-null    int64\n",
      " 18  SC3            772 non-null    int64\n",
      " 19  TC1            772 non-null    int64\n",
      " 20  TC2            772 non-null    int64\n",
      " 21  TC3            772 non-null    int64\n",
      " 22  RCC1           772 non-null    int64\n",
      " 23  RCC2           772 non-null    int64\n",
      " 24  RCC3           772 non-null    int64\n",
      " 25  Adoption cost  772 non-null    int64\n",
      "dtypes: int64(26)\n",
      "memory usage: 156.9 KB\n"
     ]
    }
   ],
   "source": [
    "IndiaDf.info()"
   ]
  },
  {
   "cell_type": "code",
   "execution_count": 7,
   "id": "841d0af0",
   "metadata": {},
   "outputs": [
    {
     "data": {
      "text/html": [
       "<div>\n",
       "<style scoped>\n",
       "    .dataframe tbody tr th:only-of-type {\n",
       "        vertical-align: middle;\n",
       "    }\n",
       "\n",
       "    .dataframe tbody tr th {\n",
       "        vertical-align: top;\n",
       "    }\n",
       "\n",
       "    .dataframe thead th {\n",
       "        text-align: right;\n",
       "    }\n",
       "</style>\n",
       "<table border=\"1\" class=\"dataframe\">\n",
       "  <thead>\n",
       "    <tr style=\"text-align: right;\">\n",
       "      <th></th>\n",
       "      <th>TCO1</th>\n",
       "      <th>TCO2</th>\n",
       "      <th>TCO3</th>\n",
       "      <th>TCO4</th>\n",
       "      <th>ROI1</th>\n",
       "      <th>ROI2</th>\n",
       "      <th>ROI3</th>\n",
       "      <th>COM1</th>\n",
       "      <th>COM2</th>\n",
       "      <th>COM3</th>\n",
       "      <th>...</th>\n",
       "      <th>SC1</th>\n",
       "      <th>SC2</th>\n",
       "      <th>SC3</th>\n",
       "      <th>TC1</th>\n",
       "      <th>TC2</th>\n",
       "      <th>TC3</th>\n",
       "      <th>RCC1</th>\n",
       "      <th>RCC2</th>\n",
       "      <th>RCC3</th>\n",
       "      <th>Adoption cost</th>\n",
       "    </tr>\n",
       "  </thead>\n",
       "  <tbody>\n",
       "    <tr>\n",
       "      <th>0</th>\n",
       "      <td>7</td>\n",
       "      <td>6</td>\n",
       "      <td>6</td>\n",
       "      <td>5</td>\n",
       "      <td>6</td>\n",
       "      <td>6</td>\n",
       "      <td>6</td>\n",
       "      <td>6</td>\n",
       "      <td>6</td>\n",
       "      <td>6</td>\n",
       "      <td>...</td>\n",
       "      <td>6</td>\n",
       "      <td>6</td>\n",
       "      <td>7</td>\n",
       "      <td>6</td>\n",
       "      <td>6</td>\n",
       "      <td>5</td>\n",
       "      <td>6</td>\n",
       "      <td>6</td>\n",
       "      <td>6</td>\n",
       "      <td>6</td>\n",
       "    </tr>\n",
       "    <tr>\n",
       "      <th>1</th>\n",
       "      <td>7</td>\n",
       "      <td>7</td>\n",
       "      <td>7</td>\n",
       "      <td>6</td>\n",
       "      <td>7</td>\n",
       "      <td>7</td>\n",
       "      <td>5</td>\n",
       "      <td>6</td>\n",
       "      <td>6</td>\n",
       "      <td>7</td>\n",
       "      <td>...</td>\n",
       "      <td>7</td>\n",
       "      <td>7</td>\n",
       "      <td>7</td>\n",
       "      <td>7</td>\n",
       "      <td>7</td>\n",
       "      <td>6</td>\n",
       "      <td>7</td>\n",
       "      <td>7</td>\n",
       "      <td>5</td>\n",
       "      <td>5</td>\n",
       "    </tr>\n",
       "    <tr>\n",
       "      <th>2</th>\n",
       "      <td>7</td>\n",
       "      <td>7</td>\n",
       "      <td>7</td>\n",
       "      <td>7</td>\n",
       "      <td>7</td>\n",
       "      <td>6</td>\n",
       "      <td>6</td>\n",
       "      <td>6</td>\n",
       "      <td>7</td>\n",
       "      <td>7</td>\n",
       "      <td>...</td>\n",
       "      <td>7</td>\n",
       "      <td>7</td>\n",
       "      <td>7</td>\n",
       "      <td>7</td>\n",
       "      <td>7</td>\n",
       "      <td>7</td>\n",
       "      <td>7</td>\n",
       "      <td>6</td>\n",
       "      <td>6</td>\n",
       "      <td>6</td>\n",
       "    </tr>\n",
       "    <tr>\n",
       "      <th>3</th>\n",
       "      <td>7</td>\n",
       "      <td>7</td>\n",
       "      <td>7</td>\n",
       "      <td>6</td>\n",
       "      <td>7</td>\n",
       "      <td>7</td>\n",
       "      <td>7</td>\n",
       "      <td>5</td>\n",
       "      <td>6</td>\n",
       "      <td>7</td>\n",
       "      <td>...</td>\n",
       "      <td>5</td>\n",
       "      <td>6</td>\n",
       "      <td>7</td>\n",
       "      <td>7</td>\n",
       "      <td>7</td>\n",
       "      <td>6</td>\n",
       "      <td>7</td>\n",
       "      <td>7</td>\n",
       "      <td>7</td>\n",
       "      <td>7</td>\n",
       "    </tr>\n",
       "    <tr>\n",
       "      <th>4</th>\n",
       "      <td>7</td>\n",
       "      <td>7</td>\n",
       "      <td>7</td>\n",
       "      <td>7</td>\n",
       "      <td>7</td>\n",
       "      <td>7</td>\n",
       "      <td>7</td>\n",
       "      <td>7</td>\n",
       "      <td>7</td>\n",
       "      <td>7</td>\n",
       "      <td>...</td>\n",
       "      <td>4</td>\n",
       "      <td>4</td>\n",
       "      <td>7</td>\n",
       "      <td>7</td>\n",
       "      <td>7</td>\n",
       "      <td>7</td>\n",
       "      <td>7</td>\n",
       "      <td>7</td>\n",
       "      <td>7</td>\n",
       "      <td>7</td>\n",
       "    </tr>\n",
       "  </tbody>\n",
       "</table>\n",
       "<p>5 rows × 26 columns</p>\n",
       "</div>"
      ],
      "text/plain": [
       "   TCO1  TCO2  TCO3  TCO4  ROI1  ROI2  ROI3  COM1  COM2  COM3  ...  SC1  SC2  \\\n",
       "0     7     6     6     5     6     6     6     6     6     6  ...    6    6   \n",
       "1     7     7     7     6     7     7     5     6     6     7  ...    7    7   \n",
       "2     7     7     7     7     7     6     6     6     7     7  ...    7    7   \n",
       "3     7     7     7     6     7     7     7     5     6     7  ...    5    6   \n",
       "4     7     7     7     7     7     7     7     7     7     7  ...    4    4   \n",
       "\n",
       "   SC3  TC1  TC2  TC3  RCC1  RCC2  RCC3  Adoption cost  \n",
       "0    7    6    6    5     6     6     6              6  \n",
       "1    7    7    7    6     7     7     5              5  \n",
       "2    7    7    7    7     7     6     6              6  \n",
       "3    7    7    7    6     7     7     7              7  \n",
       "4    7    7    7    7     7     7     7              7  \n",
       "\n",
       "[5 rows x 26 columns]"
      ]
     },
     "execution_count": 7,
     "metadata": {},
     "output_type": "execute_result"
    }
   ],
   "source": [
    "IndiaDf.head()"
   ]
  },
  {
   "cell_type": "markdown",
   "id": "4fdad55b",
   "metadata": {},
   "source": [
    "##  IMPORTS"
   ]
  },
  {
   "cell_type": "code",
   "execution_count": 78,
   "id": "acdd3f67",
   "metadata": {},
   "outputs": [],
   "source": [
    "import matplotlib.pyplot as plt\n",
    "import seaborn as sns\n",
    "import sklearn\n",
    "from sklearn.model_selection import train_test_split\n",
    "from sklearn.metrics import f1_score\n",
    "from sklearn.ensemble import RandomForestRegressor\n",
    "from sklearn.ensemble import RandomForestClassifier\n",
    "from sklearn.model_selection import cross_val_score\n",
    "from sklearn.metrics import mean_squared_error, mean_absolute_error\n",
    "from sklearn.metrics import r2_score\n",
    "from sklearn.metrics import accuracy_score"
   ]
  },
  {
   "cell_type": "markdown",
   "id": "e31dacdf",
   "metadata": {},
   "source": [
    "## Features and Target"
   ]
  },
  {
   "cell_type": "code",
   "execution_count": 15,
   "id": "b5fe4b61",
   "metadata": {},
   "outputs": [],
   "source": [
    "x = IndiaDf.iloc[:,0:25].values  #features\n",
    "y = IndiaDf.iloc[:,25].values    #target"
   ]
  },
  {
   "cell_type": "code",
   "execution_count": 16,
   "id": "fb49926d",
   "metadata": {},
   "outputs": [
    {
     "data": {
      "text/plain": [
       "array([[7, 6, 6, ..., 6, 6, 6],\n",
       "       [7, 7, 7, ..., 7, 7, 5],\n",
       "       [7, 7, 7, ..., 7, 6, 6],\n",
       "       ...,\n",
       "       [7, 7, 7, ..., 7, 7, 7],\n",
       "       [4, 4, 4, ..., 6, 4, 5],\n",
       "       [7, 7, 7, ..., 7, 7, 7]], dtype=int64)"
      ]
     },
     "execution_count": 16,
     "metadata": {},
     "output_type": "execute_result"
    }
   ],
   "source": [
    "x"
   ]
  },
  {
   "cell_type": "code",
   "execution_count": 8,
   "id": "0743dc20",
   "metadata": {},
   "outputs": [],
   "source": [
    "X = IndiaDf.drop(columns=['Adoption cost'])\n",
    "Y = IndiaDf['Adoption cost']"
   ]
  },
  {
   "cell_type": "code",
   "execution_count": 10,
   "id": "79615ad2",
   "metadata": {},
   "outputs": [
    {
     "data": {
      "text/html": [
       "<div>\n",
       "<style scoped>\n",
       "    .dataframe tbody tr th:only-of-type {\n",
       "        vertical-align: middle;\n",
       "    }\n",
       "\n",
       "    .dataframe tbody tr th {\n",
       "        vertical-align: top;\n",
       "    }\n",
       "\n",
       "    .dataframe thead th {\n",
       "        text-align: right;\n",
       "    }\n",
       "</style>\n",
       "<table border=\"1\" class=\"dataframe\">\n",
       "  <thead>\n",
       "    <tr style=\"text-align: right;\">\n",
       "      <th></th>\n",
       "      <th>TCO1</th>\n",
       "      <th>TCO2</th>\n",
       "      <th>TCO3</th>\n",
       "      <th>TCO4</th>\n",
       "      <th>ROI1</th>\n",
       "      <th>ROI2</th>\n",
       "      <th>ROI3</th>\n",
       "      <th>COM1</th>\n",
       "      <th>COM2</th>\n",
       "      <th>COM3</th>\n",
       "      <th>...</th>\n",
       "      <th>IC3</th>\n",
       "      <th>SC1</th>\n",
       "      <th>SC2</th>\n",
       "      <th>SC3</th>\n",
       "      <th>TC1</th>\n",
       "      <th>TC2</th>\n",
       "      <th>TC3</th>\n",
       "      <th>RCC1</th>\n",
       "      <th>RCC2</th>\n",
       "      <th>RCC3</th>\n",
       "    </tr>\n",
       "  </thead>\n",
       "  <tbody>\n",
       "    <tr>\n",
       "      <th>0</th>\n",
       "      <td>7</td>\n",
       "      <td>6</td>\n",
       "      <td>6</td>\n",
       "      <td>5</td>\n",
       "      <td>6</td>\n",
       "      <td>6</td>\n",
       "      <td>6</td>\n",
       "      <td>6</td>\n",
       "      <td>6</td>\n",
       "      <td>6</td>\n",
       "      <td>...</td>\n",
       "      <td>6</td>\n",
       "      <td>6</td>\n",
       "      <td>6</td>\n",
       "      <td>7</td>\n",
       "      <td>6</td>\n",
       "      <td>6</td>\n",
       "      <td>5</td>\n",
       "      <td>6</td>\n",
       "      <td>6</td>\n",
       "      <td>6</td>\n",
       "    </tr>\n",
       "    <tr>\n",
       "      <th>1</th>\n",
       "      <td>7</td>\n",
       "      <td>7</td>\n",
       "      <td>7</td>\n",
       "      <td>6</td>\n",
       "      <td>7</td>\n",
       "      <td>7</td>\n",
       "      <td>5</td>\n",
       "      <td>6</td>\n",
       "      <td>6</td>\n",
       "      <td>7</td>\n",
       "      <td>...</td>\n",
       "      <td>7</td>\n",
       "      <td>7</td>\n",
       "      <td>7</td>\n",
       "      <td>7</td>\n",
       "      <td>7</td>\n",
       "      <td>7</td>\n",
       "      <td>6</td>\n",
       "      <td>7</td>\n",
       "      <td>7</td>\n",
       "      <td>5</td>\n",
       "    </tr>\n",
       "    <tr>\n",
       "      <th>2</th>\n",
       "      <td>7</td>\n",
       "      <td>7</td>\n",
       "      <td>7</td>\n",
       "      <td>7</td>\n",
       "      <td>7</td>\n",
       "      <td>6</td>\n",
       "      <td>6</td>\n",
       "      <td>6</td>\n",
       "      <td>7</td>\n",
       "      <td>7</td>\n",
       "      <td>...</td>\n",
       "      <td>7</td>\n",
       "      <td>7</td>\n",
       "      <td>7</td>\n",
       "      <td>7</td>\n",
       "      <td>7</td>\n",
       "      <td>7</td>\n",
       "      <td>7</td>\n",
       "      <td>7</td>\n",
       "      <td>6</td>\n",
       "      <td>6</td>\n",
       "    </tr>\n",
       "    <tr>\n",
       "      <th>3</th>\n",
       "      <td>7</td>\n",
       "      <td>7</td>\n",
       "      <td>7</td>\n",
       "      <td>6</td>\n",
       "      <td>7</td>\n",
       "      <td>7</td>\n",
       "      <td>7</td>\n",
       "      <td>5</td>\n",
       "      <td>6</td>\n",
       "      <td>7</td>\n",
       "      <td>...</td>\n",
       "      <td>6</td>\n",
       "      <td>5</td>\n",
       "      <td>6</td>\n",
       "      <td>7</td>\n",
       "      <td>7</td>\n",
       "      <td>7</td>\n",
       "      <td>6</td>\n",
       "      <td>7</td>\n",
       "      <td>7</td>\n",
       "      <td>7</td>\n",
       "    </tr>\n",
       "    <tr>\n",
       "      <th>4</th>\n",
       "      <td>7</td>\n",
       "      <td>7</td>\n",
       "      <td>7</td>\n",
       "      <td>7</td>\n",
       "      <td>7</td>\n",
       "      <td>7</td>\n",
       "      <td>7</td>\n",
       "      <td>7</td>\n",
       "      <td>7</td>\n",
       "      <td>7</td>\n",
       "      <td>...</td>\n",
       "      <td>4</td>\n",
       "      <td>4</td>\n",
       "      <td>4</td>\n",
       "      <td>7</td>\n",
       "      <td>7</td>\n",
       "      <td>7</td>\n",
       "      <td>7</td>\n",
       "      <td>7</td>\n",
       "      <td>7</td>\n",
       "      <td>7</td>\n",
       "    </tr>\n",
       "  </tbody>\n",
       "</table>\n",
       "<p>5 rows × 25 columns</p>\n",
       "</div>"
      ],
      "text/plain": [
       "   TCO1  TCO2  TCO3  TCO4  ROI1  ROI2  ROI3  COM1  COM2  COM3  ...  IC3  SC1  \\\n",
       "0     7     6     6     5     6     6     6     6     6     6  ...    6    6   \n",
       "1     7     7     7     6     7     7     5     6     6     7  ...    7    7   \n",
       "2     7     7     7     7     7     6     6     6     7     7  ...    7    7   \n",
       "3     7     7     7     6     7     7     7     5     6     7  ...    6    5   \n",
       "4     7     7     7     7     7     7     7     7     7     7  ...    4    4   \n",
       "\n",
       "   SC2  SC3  TC1  TC2  TC3  RCC1  RCC2  RCC3  \n",
       "0    6    7    6    6    5     6     6     6  \n",
       "1    7    7    7    7    6     7     7     5  \n",
       "2    7    7    7    7    7     7     6     6  \n",
       "3    6    7    7    7    6     7     7     7  \n",
       "4    4    7    7    7    7     7     7     7  \n",
       "\n",
       "[5 rows x 25 columns]"
      ]
     },
     "execution_count": 10,
     "metadata": {},
     "output_type": "execute_result"
    }
   ],
   "source": [
    "X.head()"
   ]
  },
  {
   "cell_type": "markdown",
   "id": "7b0ebc1b",
   "metadata": {},
   "source": [
    "## Training and Testing"
   ]
  },
  {
   "cell_type": "code",
   "execution_count": 302,
   "id": "ae9728fb",
   "metadata": {},
   "outputs": [
    {
     "data": {
      "text/plain": [
       "((540, 25), (232, 25))"
      ]
     },
     "execution_count": 302,
     "metadata": {},
     "output_type": "execute_result"
    }
   ],
   "source": [
    "X_train, X_test, Y_train, Y_test = train_test_split(X, Y, train_size=0.7, random_state=42)\n",
    "X_train.shape, X_test.shape"
   ]
  },
  {
   "cell_type": "code",
   "execution_count": 35,
   "id": "2a1ffbe7",
   "metadata": {},
   "outputs": [
    {
     "data": {
      "text/plain": [
       "538    6\n",
       "213    7\n",
       "361    7\n",
       "417    5\n",
       "582    7\n",
       "      ..\n",
       "453    7\n",
       "752    7\n",
       "707    7\n",
       "623    7\n",
       "198    5\n",
       "Name: Adoption cost, Length: 232, dtype: int64"
      ]
     },
     "execution_count": 35,
     "metadata": {},
     "output_type": "execute_result"
    }
   ],
   "source": [
    "Y_test"
   ]
  },
  {
   "cell_type": "code",
   "execution_count": 18,
   "id": "1ed21cdb",
   "metadata": {},
   "outputs": [
    {
     "data": {
      "text/plain": [
       "((540,), (232,))"
      ]
     },
     "execution_count": 18,
     "metadata": {},
     "output_type": "execute_result"
    }
   ],
   "source": [
    " Y_train.shape, Y_test.shape"
   ]
  },
  {
   "cell_type": "code",
   "execution_count": 42,
   "id": "ce2d47e5",
   "metadata": {},
   "outputs": [
    {
     "data": {
      "text/plain": [
       "538    6\n",
       "213    7\n",
       "361    7\n",
       "417    5\n",
       "582    7\n",
       "Name: Adoption cost, dtype: int64"
      ]
     },
     "execution_count": 42,
     "metadata": {},
     "output_type": "execute_result"
    }
   ],
   "source": [
    "Y_test.head()"
   ]
  },
  {
   "cell_type": "code",
   "execution_count": 303,
   "id": "0eea3e01",
   "metadata": {},
   "outputs": [],
   "source": [
    "classifier_rf = RandomForestClassifier(random_state=42, n_jobs=-1, max_depth=None,\n",
    "                                       n_estimators= 300,min_samples_leaf= 2, min_samples_split= 5)"
   ]
  },
  {
   "cell_type": "code",
   "execution_count": 304,
   "id": "98142476",
   "metadata": {},
   "outputs": [
    {
     "data": {
      "text/plain": [
       "RandomForestClassifier(min_samples_leaf=2, min_samples_split=5,\n",
       "                       n_estimators=300, n_jobs=-1, random_state=42)"
      ]
     },
     "execution_count": 304,
     "metadata": {},
     "output_type": "execute_result"
    }
   ],
   "source": [
    "classifier_rf.fit(X_train, Y_train)"
   ]
  },
  {
   "cell_type": "code",
   "execution_count": 73,
   "id": "f9202d48",
   "metadata": {},
   "outputs": [
    {
     "name": "stdout",
     "output_type": "stream",
     "text": [
      "[7 7 7 5 7 7 6 5 7 7 7 6 3 7 6 7 4 7 7 7 5 6 7 7 7 5 7 4 7 5 7 1 6 7 7 7 4\n",
      " 6 7 5 5 7 7 7 4 5 6 6 7 6 7 7 5 6 7 5 4 7 7 6 7 1 5 5 7 5 7 7 7 7 4 7 5 7\n",
      " 4 7 7 7 5 7 6 6 7 5 7 5 7 5 7 7 7 7 7 5 7 7 7 7 7 5 7 7 7 6 6 6 6 6 7 5 7\n",
      " 5 4 7 6 7 5 5 6 7 6 7 7 7 6 7 7 6 5 6 6 4 6 6 6 7 7 6 7 6 4 7 6 6 7 5 6 6\n",
      " 7 6 7 5 7 7 7 7 6 7 6 7 7 5 7 7 7 7 7 7 7 6 6 4 6 6 6 7 7 6 6 7 7 7 6 7 6\n",
      " 6 6 6 6 5 6 6 6 5 7 7 4 7 6 5 4 6 6 7 7 6 7 4 6 4 7 7 5 7 5 5 6 6 7 7 7 6\n",
      " 6 6 6 6 7 6 7 7 7 5]\n"
     ]
    }
   ],
   "source": [
    "prediction = classifier_rf.predict(X_test)\n",
    "print(prediction) "
   ]
  },
  {
   "cell_type": "code",
   "execution_count": 307,
   "id": "43b3e078",
   "metadata": {},
   "outputs": [
    {
     "name": "stdout",
     "output_type": "stream",
     "text": [
      "Adoption Cost error: 1.5948275862068966\n",
      "R-squared: -0.17590651926738743\n",
      "the accuracy is -17.590651926738744\n"
     ]
    }
   ],
   "source": [
    "prediction_mse = mean_squared_error(Y_test,prediction)\n",
    "print(\"Adoption Cost error:\", prediction_mse)\n",
    "r_squared = r2_score(Y_test,prediction)\n",
    "print(\"R-squared:\", r_squared)\n",
    "\n",
    "print('the accuracy is', r_squared*100 )"
   ]
  },
  {
   "cell_type": "code",
   "execution_count": 308,
   "id": "bfcad4ec",
   "metadata": {},
   "outputs": [
    {
     "name": "stdout",
     "output_type": "stream",
     "text": [
      "Fitting 5 folds for each of 189 candidates, totalling 945 fits\n"
     ]
    },
    {
     "name": "stderr",
     "output_type": "stream",
     "text": [
      "C:\\Users\\swabhi\\anaconda3\\lib\\site-packages\\sklearn\\model_selection\\_split.py:676: UserWarning: The least populated class in y has only 3 members, which is less than n_splits=5.\n",
      "  warnings.warn(\n"
     ]
    },
    {
     "name": "stdout",
     "output_type": "stream",
     "text": [
      "Best parameters: {'max_depth': None, 'min_samples_leaf': 2, 'min_samples_split': 5, 'n_estimators': 300}\n"
     ]
    }
   ],
   "source": [
    "from sklearn.model_selection import GridSearchCV\n",
    "\n",
    "param_grid = {\n",
    "    'max_depth': [None, 10, 20, 30, 40, 50, 60],\n",
    "    'n_estimators': [100, 200, 300],\n",
    "    'min_samples_split': [2, 5, 10],\n",
    "    'min_samples_leaf': [1, 2, 4]\n",
    "}\n",
    "\n",
    "rf = RandomForestClassifier(random_state=42)\n",
    "\n",
    "grid_search = GridSearchCV(estimator=rf, param_grid=param_grid, cv=5, n_jobs=-1, verbose=2)\n",
    "grid_search.fit(X_train, Y_train)\n",
    "\n",
    "best_params = grid_search.best_params_\n",
    "print(\"Best parameters:\", best_params)\n",
    "\n",
    "best_model = grid_search.best_estimator_\n"
   ]
  },
  {
   "cell_type": "code",
   "execution_count": 311,
   "id": "771d35a9",
   "metadata": {},
   "outputs": [
    {
     "name": "stdout",
     "output_type": "stream",
     "text": [
      "R-squared: -0.17590651926738743\n",
      "Accuracy: 0.6982758620689655\n"
     ]
    }
   ],
   "source": [
    "accuracy = accuracy_score(Y_test, prediction)\n",
    "r2 = r2_score(Y_test, prediction)\n",
    "print(\"R-squared:\", r2)\n",
    "print(\"Accuracy:\", accuracy)"
   ]
  },
  {
   "cell_type": "code",
   "execution_count": 315,
   "id": "d5f852b4",
   "metadata": {},
   "outputs": [
    {
     "name": "stdout",
     "output_type": "stream",
     "text": [
      "Fitting 5 folds for each of 324 candidates, totalling 1620 fits\n",
      "Best parameters: {'max_depth': 10, 'max_features': 'sqrt', 'min_samples_leaf': 4, 'min_samples_split': 10, 'n_estimators': 100}\n"
     ]
    }
   ],
   "source": [
    "model = RandomForestRegressor(n_jobs=-1)\n",
    "\n",
    "\n",
    "param_grid = {\n",
    "    'n_estimators': [100, 200, 300],\n",
    "    'max_depth': [None, 10, 20, 30],\n",
    "    'min_samples_split': [2, 5, 10],\n",
    "    'min_samples_leaf': [1, 2, 4],\n",
    "    'max_features': ['auto', 'sqrt', 'log2']\n",
    "}\n",
    "\n",
    "grid_search = GridSearchCV(estimator=model, param_grid=param_grid, cv=5, n_jobs=-1, verbose=2, scoring='neg_mean_squared_error')\n",
    "grid_search.fit(X_train, Y_train)\n",
    "\n",
    "best_params = grid_search.best_params_\n",
    "best_model = grid_search.best_estimator_\n",
    "\n",
    "print(\"Best parameters:\", best_params)\n"
   ]
  },
  {
   "cell_type": "code",
   "execution_count": 209,
   "id": "82a980bf",
   "metadata": {},
   "outputs": [
    {
     "name": "stdout",
     "output_type": "stream",
     "text": [
      "Mean Squared Error: 1.0436600556587283\n",
      "R-squared: 0.23048317325202528\n",
      "The accuracy is: 23.04831732520253 % \n"
     ]
    }
   ],
   "source": [
    "model = RandomForestRegressor(random_state=38,n_jobs=-1, max_depth=10,n_estimators= 100,min_samples_leaf=6, min_samples_split=2)\n",
    "model.fit(X_train, Y_train)\n",
    "\n",
    "prediction_regressor = model.predict(X_test)\n",
    "\n",
    "# Calculate Mean Squared Error\n",
    "mse = mean_squared_error(Y_test, prediction_regressor)\n",
    "print(\"Mean Squared Error:\", mse)\n",
    "\n",
    "# Calculate R-squared\n",
    "r2 = r2_score(Y_test, prediction_regressor)\n",
    "print(\"R-squared:\", r2)\n",
    "\n",
    "# Calculate and print accuracy as a percentage\n",
    "accuracy = r2 * 100\n",
    "print(f\"The accuracy is: {accuracy} % \")"
   ]
  },
  {
   "cell_type": "code",
   "execution_count": 330,
   "id": "869d3f3f",
   "metadata": {},
   "outputs": [
    {
     "name": "stdout",
     "output_type": "stream",
     "text": [
      "Mean Squared Error: 1.0159766776899561\n",
      "R-squared: 0.2508948245868545\n",
      "The accuracy is: 25.089482458685453 % \n"
     ]
    }
   ],
   "source": [
    "model = RandomForestRegressor(n_jobs=-1, max_depth=14,n_estimators= 147,min_samples_leaf=10, min_samples_split=18,max_features='auto')\n",
    "model.fit(X_train, Y_train)\n",
    "\n",
    "prediction_regressor = model.predict(X_test)\n",
    "\n",
    "# Calculate Mean Squared Error\n",
    "mse = mean_squared_error(Y_test, prediction_regressor)\n",
    "print(\"Mean Squared Error:\", mse)\n",
    "\n",
    "# Calculate R-squared\n",
    "r2 = r2_score(Y_test, prediction_regressor)\n",
    "print(\"R-squared:\", r2)\n",
    "\n",
    "# Calculate and print accuracy as a percentage\n",
    "accuracy = r2 * 100\n",
    "print(f\"The accuracy is: {accuracy} % \")"
   ]
  },
  {
   "cell_type": "code",
   "execution_count": 326,
   "id": "29513e11",
   "metadata": {},
   "outputs": [
    {
     "name": "stdout",
     "output_type": "stream",
     "text": [
      "Fitting 5 folds for each of 100 candidates, totalling 500 fits\n",
      "Best parameters found:  {'max_depth': 14, 'max_features': 'auto', 'min_samples_leaf': 10, 'min_samples_split': 18, 'n_estimators': 147}\n",
      "Mean Squared Error: 1.0233024491451201\n",
      "R-squared: 0.24549334891180763\n",
      "The accuracy is: 24.549334891180763 % \n"
     ]
    }
   ],
   "source": [
    "from sklearn.model_selection import RandomizedSearchCV\n",
    "from scipy.stats import randint\n",
    "\n",
    "# Define the parameter distribution\n",
    "param_dist = {\n",
    "    'n_estimators': randint(50, 500),\n",
    "    'max_depth': [None] + list(randint(1, 50).rvs(10)),\n",
    "    'min_samples_split': randint(2, 20),\n",
    "    'min_samples_leaf': randint(1, 20),\n",
    "    'max_features': ['auto', 'sqrt', 'log2', None]\n",
    "}\n",
    "\n",
    "# Initialize the model\n",
    "rf = RandomForestRegressor(n_jobs=-1)\n",
    "\n",
    "# Perform randomized search\n",
    "random_search = RandomizedSearchCV(estimator=rf, param_distributions=param_dist, n_iter=100, cv=5, n_jobs=-1, verbose=2)\n",
    "random_search.fit(X_train, Y_train)\n",
    "\n",
    "# Print the best parameters found by RandomizedSearchCV\n",
    "print(\"Best parameters found: \", random_search.best_params_)\n",
    "\n",
    "# Train the model with the best parameters\n",
    "best_rf = random_search.best_estimator_\n",
    "best_rf.fit(X_train, Y_train)\n",
    "\n",
    "# Make predictions\n",
    "prediction_regressor = best_rf.predict(X_test)\n",
    "\n",
    "# Calculate Mean Squared Error\n",
    "mse = mean_squared_error(Y_test, prediction_regressor)\n",
    "print(\"Mean Squared Error:\", mse)\n",
    "\n",
    "# Calculate R-squared\n",
    "r2 = r2_score(Y_test, prediction_regressor)\n",
    "print(\"R-squared:\", r2)\n",
    "\n",
    "# Calculate and print accuracy as a percentage\n",
    "accuracy = r2 * 100\n",
    "print(f\"The accuracy is: {accuracy} % \")\n"
   ]
  },
  {
   "cell_type": "code",
   "execution_count": 398,
   "id": "6792c08e",
   "metadata": {},
   "outputs": [
    {
     "name": "stdout",
     "output_type": "stream",
     "text": [
      "Mean Squared Error: 1.0140609593691299\n",
      "R-squared: 0.2523073319212037\n",
      "The accuracy is: 25.23073319212037 % \n"
     ]
    }
   ],
   "source": [
    "model = RandomForestRegressor(n_jobs=-1, max_depth=14,n_estimators= 147,min_samples_leaf=10, min_samples_split=18,max_features='auto')\n",
    "model.fit(X_train, Y_train)\n",
    "prediction_regressor = model.predict(X_test)\n",
    "\n",
    "# Calculate Mean Squared Error\n",
    "mse = mean_squared_error(Y_test, prediction_regressor)\n",
    "print(\"Mean Squared Error:\", mse)\n",
    "\n",
    "# Calculate R-squared\n",
    "r2 = r2_score(Y_test, prediction_regressor)\n",
    "print(\"R-squared:\", r2)\n",
    "\n",
    "# Calculate and print accuracy as a percentage\n",
    "accuracy = r2 * 100\n",
    "print(f\"The accuracy is: {accuracy} % \")"
   ]
  },
  {
   "cell_type": "code",
   "execution_count": 406,
   "id": "e8633142",
   "metadata": {},
   "outputs": [
    {
     "name": "stdout",
     "output_type": "stream",
     "text": [
      "Mean Squared Error: 1.022715360010633\n",
      "R-squared: 0.2459262245070163\n",
      "The accuracy is: 24.59262245070163 % \n"
     ]
    }
   ],
   "source": [
    "model = RandomForestRegressor(n_jobs=-1, max_depth=14,n_estimators= 147,min_samples_leaf=10, min_samples_split=18,max_features='auto')\n",
    "model.fit(X_train, Y_train)\n",
    "prediction_regressor = model.predict(X_test)\n",
    "\n",
    "# Calculate Mean Squared Error\n",
    "mse = mean_squared_error(Y_test, prediction_regressor)\n",
    "print(\"Mean Squared Error:\", mse)\n",
    "\n",
    "# Calculate R-squared\n",
    "r2 = r2_score(Y_test, prediction_regressor)\n",
    "print(\"R-squared:\", r2)\n",
    "\n",
    "# Calculate and print accuracy as a percentage\n",
    "accuracy = r2 * 100\n",
    "print(f\"The accuracy is: {accuracy} % \")"
   ]
  },
  {
   "cell_type": "code",
   "execution_count": null,
   "id": "65067e0d",
   "metadata": {},
   "outputs": [],
   "source": []
  },
  {
   "cell_type": "code",
   "execution_count": null,
   "id": "fc47d6f5",
   "metadata": {},
   "outputs": [],
   "source": []
  }
 ],
 "metadata": {
  "kernelspec": {
   "display_name": "Python 3 (ipykernel)",
   "language": "python",
   "name": "python3"
  },
  "language_info": {
   "codemirror_mode": {
    "name": "ipython",
    "version": 3
   },
   "file_extension": ".py",
   "mimetype": "text/x-python",
   "name": "python",
   "nbconvert_exporter": "python",
   "pygments_lexer": "ipython3",
   "version": "3.9.13"
  }
 },
 "nbformat": 4,
 "nbformat_minor": 5
}
